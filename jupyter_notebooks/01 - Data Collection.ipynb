{
  "cells": [
    {
      "cell_type": "markdown",
      "metadata": {
        "id": "0aStgWSO0E0E"
      },
      "source": [
        "# **Data Collection Notebook**"
      ]
    },
    {
      "cell_type": "markdown",
      "metadata": {
        "id": "1eLEkw5O0ECa"
      },
      "source": [
        "## Objectives\n",
        "\n",
        "* Fetch data from Kaggle and save it as raw data.\n",
        "* Inspect the data and save it under outputs/datasets/collection\n",
        "\n",
        "## Inputs\n",
        "\n",
        "* Kaggle JSON file and authentication token. \n",
        "\n",
        "## Outputs\n",
        "\n",
        "* Generate Datasets: outputs/datasets/collection/house_prices.csv and outputs/datasets/collection/inherited_houses.csv\n",
        "\n",
        "## Additional Comments\n",
        "\n",
        "* This data is coming from an open, public source and poses no ethical or privacy concerns.\n"
      ]
    },
    {
      "cell_type": "markdown",
      "metadata": {
        "id": "9uWZXH9LwoQg"
      },
      "source": [
        "---"
      ]
    },
    {
      "cell_type": "markdown",
      "metadata": {
        "id": "cqP-UeN-z3i2"
      },
      "source": [
        "# Change working directory"
      ]
    },
    {
      "cell_type": "markdown",
      "metadata": {},
      "source": [
        "* Install python packages in the notebooks"
      ]
    },
    {
      "cell_type": "code",
      "execution_count": 1,
      "metadata": {},
      "outputs": [
        {
          "name": "stdout",
          "output_type": "stream",
          "text": [
            "Requirement already satisfied: numpy==1.18.5 in /home/codeany/.local/lib/python3.8/site-packages (from -r /workspaces/data-analytics-housing-project/requirements.txt (line 1)) (1.18.5)\n",
            "Requirement already satisfied: pandas==1.4.2 in /home/codeany/.local/lib/python3.8/site-packages (from -r /workspaces/data-analytics-housing-project/requirements.txt (line 2)) (1.4.2)\n",
            "Requirement already satisfied: matplotlib==3.3.1 in /home/codeany/.local/lib/python3.8/site-packages (from -r /workspaces/data-analytics-housing-project/requirements.txt (line 3)) (3.3.1)\n",
            "Requirement already satisfied: seaborn==0.11.0 in /home/codeany/.local/lib/python3.8/site-packages (from -r /workspaces/data-analytics-housing-project/requirements.txt (line 4)) (0.11.0)\n",
            "Requirement already satisfied: ydata-profiling==4.4.0 in /home/codeany/.local/lib/python3.8/site-packages (from -r /workspaces/data-analytics-housing-project/requirements.txt (line 5)) (4.4.0)\n",
            "Requirement already satisfied: plotly==4.12.0 in /home/codeany/.local/lib/python3.8/site-packages (from -r /workspaces/data-analytics-housing-project/requirements.txt (line 6)) (4.12.0)\n",
            "Requirement already satisfied: ppscore==1.2.0 in /home/codeany/.local/lib/python3.8/site-packages (from -r /workspaces/data-analytics-housing-project/requirements.txt (line 7)) (1.2.0)\n",
            "Requirement already satisfied: streamlit==0.85.0 in /home/codeany/.local/lib/python3.8/site-packages (from -r /workspaces/data-analytics-housing-project/requirements.txt (line 9)) (0.85.0)\n",
            "Requirement already satisfied: feature-engine==1.0.2 in /home/codeany/.local/lib/python3.8/site-packages (from -r /workspaces/data-analytics-housing-project/requirements.txt (line 11)) (1.0.2)\n",
            "Requirement already satisfied: imbalanced-learn==0.8.0 in /home/codeany/.local/lib/python3.8/site-packages (from -r /workspaces/data-analytics-housing-project/requirements.txt (line 12)) (0.8.0)\n",
            "Requirement already satisfied: scikit-learn==0.24.2 in /home/codeany/.local/lib/python3.8/site-packages (from -r /workspaces/data-analytics-housing-project/requirements.txt (line 13)) (0.24.2)\n",
            "Requirement already satisfied: xgboost==1.2.1 in /home/codeany/.local/lib/python3.8/site-packages (from -r /workspaces/data-analytics-housing-project/requirements.txt (line 14)) (1.2.1)\n",
            "Requirement already satisfied: yellowbrick==1.3 in /home/codeany/.local/lib/python3.8/site-packages (from -r /workspaces/data-analytics-housing-project/requirements.txt (line 15)) (1.3)\n",
            "Requirement already satisfied: Jinja2==3.1.1 in /home/codeany/.local/lib/python3.8/site-packages (from -r /workspaces/data-analytics-housing-project/requirements.txt (line 16)) (3.1.1)\n",
            "Requirement already satisfied: MarkupSafe==2.0.1 in /home/codeany/.local/lib/python3.8/site-packages (from -r /workspaces/data-analytics-housing-project/requirements.txt (line 17)) (2.0.1)\n",
            "Requirement already satisfied: protobuf==3.20 in /home/codeany/.local/lib/python3.8/site-packages (from -r /workspaces/data-analytics-housing-project/requirements.txt (line 18)) (3.20.0)\n",
            "Requirement already satisfied: ipywidgets==8.0.2 in /home/codeany/.local/lib/python3.8/site-packages (from -r /workspaces/data-analytics-housing-project/requirements.txt (line 19)) (8.0.2)\n",
            "Requirement already satisfied: altair<5 in /home/codeany/.local/lib/python3.8/site-packages (from -r /workspaces/data-analytics-housing-project/requirements.txt (line 20)) (4.2.2)\n",
            "Requirement already satisfied: python-dateutil>=2.8.1 in /home/codeany/.pyenv/versions/3.8.12/lib/python3.8/site-packages (from pandas==1.4.2->-r /workspaces/data-analytics-housing-project/requirements.txt (line 2)) (2.9.0.post0)\n",
            "Requirement already satisfied: pytz>=2020.1 in /home/codeany/.pyenv/versions/3.8.12/lib/python3.8/site-packages (from pandas==1.4.2->-r /workspaces/data-analytics-housing-project/requirements.txt (line 2)) (2024.1)\n",
            "Requirement already satisfied: certifi>=2020.06.20 in /home/codeany/.pyenv/versions/3.8.12/lib/python3.8/site-packages (from matplotlib==3.3.1->-r /workspaces/data-analytics-housing-project/requirements.txt (line 3)) (2024.2.2)\n",
            "Requirement already satisfied: cycler>=0.10 in /home/codeany/.local/lib/python3.8/site-packages (from matplotlib==3.3.1->-r /workspaces/data-analytics-housing-project/requirements.txt (line 3)) (0.12.1)\n",
            "Requirement already satisfied: kiwisolver>=1.0.1 in /home/codeany/.local/lib/python3.8/site-packages (from matplotlib==3.3.1->-r /workspaces/data-analytics-housing-project/requirements.txt (line 3)) (1.4.5)\n",
            "Requirement already satisfied: pillow>=6.2.0 in /home/codeany/.local/lib/python3.8/site-packages (from matplotlib==3.3.1->-r /workspaces/data-analytics-housing-project/requirements.txt (line 3)) (10.2.0)\n",
            "Requirement already satisfied: pyparsing!=2.0.4,!=2.1.2,!=2.1.6,>=2.0.3 in /home/codeany/.local/lib/python3.8/site-packages (from matplotlib==3.3.1->-r /workspaces/data-analytics-housing-project/requirements.txt (line 3)) (3.1.2)\n",
            "Requirement already satisfied: scipy>=1.0 in /home/codeany/.local/lib/python3.8/site-packages (from seaborn==0.11.0->-r /workspaces/data-analytics-housing-project/requirements.txt (line 4)) (1.9.3)\n",
            "Requirement already satisfied: pydantic<2,>=1.8.1 in /home/codeany/.local/lib/python3.8/site-packages (from ydata-profiling==4.4.0->-r /workspaces/data-analytics-housing-project/requirements.txt (line 5)) (1.10.14)\n",
            "Requirement already satisfied: PyYAML<6.1,>=5.0.0 in /home/codeany/.pyenv/versions/3.8.12/lib/python3.8/site-packages (from ydata-profiling==4.4.0->-r /workspaces/data-analytics-housing-project/requirements.txt (line 5)) (6.0.1)\n",
            "Requirement already satisfied: visions==0.7.5 in /home/codeany/.local/lib/python3.8/site-packages (from visions[type_image_path]==0.7.5->ydata-profiling==4.4.0->-r /workspaces/data-analytics-housing-project/requirements.txt (line 5)) (0.7.5)\n",
            "Requirement already satisfied: htmlmin==0.1.12 in /home/codeany/.local/lib/python3.8/site-packages (from ydata-profiling==4.4.0->-r /workspaces/data-analytics-housing-project/requirements.txt (line 5)) (0.1.12)\n",
            "Requirement already satisfied: phik<0.13,>=0.11.1 in /home/codeany/.local/lib/python3.8/site-packages (from ydata-profiling==4.4.0->-r /workspaces/data-analytics-housing-project/requirements.txt (line 5)) (0.12.4)\n",
            "Requirement already satisfied: requests<3,>=2.24.0 in /home/codeany/.pyenv/versions/3.8.12/lib/python3.8/site-packages (from ydata-profiling==4.4.0->-r /workspaces/data-analytics-housing-project/requirements.txt (line 5)) (2.31.0)\n",
            "Requirement already satisfied: tqdm<5,>=4.48.2 in /home/codeany/.local/lib/python3.8/site-packages (from ydata-profiling==4.4.0->-r /workspaces/data-analytics-housing-project/requirements.txt (line 5)) (4.66.2)\n",
            "Requirement already satisfied: multimethod<2,>=1.4 in /home/codeany/.local/lib/python3.8/site-packages (from ydata-profiling==4.4.0->-r /workspaces/data-analytics-housing-project/requirements.txt (line 5)) (1.10)\n",
            "Requirement already satisfied: statsmodels<1,>=0.13.2 in /home/codeany/.local/lib/python3.8/site-packages (from ydata-profiling==4.4.0->-r /workspaces/data-analytics-housing-project/requirements.txt (line 5)) (0.14.1)\n",
            "Requirement already satisfied: typeguard<3,>=2.13.2 in /home/codeany/.local/lib/python3.8/site-packages (from ydata-profiling==4.4.0->-r /workspaces/data-analytics-housing-project/requirements.txt (line 5)) (2.13.3)\n",
            "Requirement already satisfied: imagehash==4.3.1 in /home/codeany/.local/lib/python3.8/site-packages (from ydata-profiling==4.4.0->-r /workspaces/data-analytics-housing-project/requirements.txt (line 5)) (4.3.1)\n",
            "Requirement already satisfied: wordcloud>=1.9.1 in /home/codeany/.local/lib/python3.8/site-packages (from ydata-profiling==4.4.0->-r /workspaces/data-analytics-housing-project/requirements.txt (line 5)) (1.9.3)\n",
            "Requirement already satisfied: dacite>=1.8 in /home/codeany/.local/lib/python3.8/site-packages (from ydata-profiling==4.4.0->-r /workspaces/data-analytics-housing-project/requirements.txt (line 5)) (1.8.1)\n",
            "Requirement already satisfied: retrying>=1.3.3 in /home/codeany/.local/lib/python3.8/site-packages (from plotly==4.12.0->-r /workspaces/data-analytics-housing-project/requirements.txt (line 6)) (1.3.4)\n",
            "Requirement already satisfied: six in /home/codeany/.pyenv/versions/3.8.12/lib/python3.8/site-packages (from plotly==4.12.0->-r /workspaces/data-analytics-housing-project/requirements.txt (line 6)) (1.16.0)\n",
            "Requirement already satisfied: astor in /home/codeany/.local/lib/python3.8/site-packages (from streamlit==0.85.0->-r /workspaces/data-analytics-housing-project/requirements.txt (line 9)) (0.8.1)\n",
            "Requirement already satisfied: attrs in /home/codeany/.pyenv/versions/3.8.12/lib/python3.8/site-packages (from streamlit==0.85.0->-r /workspaces/data-analytics-housing-project/requirements.txt (line 9)) (23.2.0)\n",
            "Requirement already satisfied: base58 in /home/codeany/.local/lib/python3.8/site-packages (from streamlit==0.85.0->-r /workspaces/data-analytics-housing-project/requirements.txt (line 9)) (2.1.1)\n",
            "Requirement already satisfied: blinker in /home/codeany/.local/lib/python3.8/site-packages (from streamlit==0.85.0->-r /workspaces/data-analytics-housing-project/requirements.txt (line 9)) (1.7.0)\n",
            "Requirement already satisfied: cachetools>=4.0 in /home/codeany/.local/lib/python3.8/site-packages (from streamlit==0.85.0->-r /workspaces/data-analytics-housing-project/requirements.txt (line 9)) (5.3.3)\n",
            "Requirement already satisfied: click<8.0,>=7.0 in /home/codeany/.local/lib/python3.8/site-packages (from streamlit==0.85.0->-r /workspaces/data-analytics-housing-project/requirements.txt (line 9)) (7.1.2)\n",
            "Requirement already satisfied: packaging in /home/codeany/.pyenv/versions/3.8.12/lib/python3.8/site-packages (from streamlit==0.85.0->-r /workspaces/data-analytics-housing-project/requirements.txt (line 9)) (23.2)\n",
            "Requirement already satisfied: pyarrow in /home/codeany/.local/lib/python3.8/site-packages (from streamlit==0.85.0->-r /workspaces/data-analytics-housing-project/requirements.txt (line 9)) (15.0.1)\n",
            "Requirement already satisfied: pydeck>=0.1.dev5 in /home/codeany/.local/lib/python3.8/site-packages (from streamlit==0.85.0->-r /workspaces/data-analytics-housing-project/requirements.txt (line 9)) (0.8.1b0)\n",
            "Requirement already satisfied: toml in /home/codeany/.local/lib/python3.8/site-packages (from streamlit==0.85.0->-r /workspaces/data-analytics-housing-project/requirements.txt (line 9)) (0.10.2)\n",
            "Requirement already satisfied: tornado>=5.0 in /home/codeany/.pyenv/versions/3.8.12/lib/python3.8/site-packages (from streamlit==0.85.0->-r /workspaces/data-analytics-housing-project/requirements.txt (line 9)) (6.4)\n",
            "Requirement already satisfied: tzlocal in /home/codeany/.local/lib/python3.8/site-packages (from streamlit==0.85.0->-r /workspaces/data-analytics-housing-project/requirements.txt (line 9)) (5.2)\n",
            "Requirement already satisfied: validators in /home/codeany/.local/lib/python3.8/site-packages (from streamlit==0.85.0->-r /workspaces/data-analytics-housing-project/requirements.txt (line 9)) (0.22.0)\n",
            "Requirement already satisfied: gitpython in /home/codeany/.local/lib/python3.8/site-packages (from streamlit==0.85.0->-r /workspaces/data-analytics-housing-project/requirements.txt (line 9)) (3.1.42)\n",
            "Requirement already satisfied: watchdog in /home/codeany/.local/lib/python3.8/site-packages (from streamlit==0.85.0->-r /workspaces/data-analytics-housing-project/requirements.txt (line 9)) (4.0.0)\n",
            "Requirement already satisfied: joblib>=0.11 in /home/codeany/.local/lib/python3.8/site-packages (from imbalanced-learn==0.8.0->-r /workspaces/data-analytics-housing-project/requirements.txt (line 12)) (1.3.2)\n",
            "Requirement already satisfied: threadpoolctl>=2.0.0 in /home/codeany/.local/lib/python3.8/site-packages (from scikit-learn==0.24.2->-r /workspaces/data-analytics-housing-project/requirements.txt (line 13)) (3.3.0)\n",
            "Requirement already satisfied: ipykernel>=4.5.1 in /home/codeany/.pyenv/versions/3.8.12/lib/python3.8/site-packages (from ipywidgets==8.0.2->-r /workspaces/data-analytics-housing-project/requirements.txt (line 19)) (6.29.3)\n",
            "Requirement already satisfied: ipython>=6.1.0 in /home/codeany/.pyenv/versions/3.8.12/lib/python3.8/site-packages (from ipywidgets==8.0.2->-r /workspaces/data-analytics-housing-project/requirements.txt (line 19)) (8.12.3)\n",
            "Requirement already satisfied: traitlets>=4.3.1 in /home/codeany/.pyenv/versions/3.8.12/lib/python3.8/site-packages (from ipywidgets==8.0.2->-r /workspaces/data-analytics-housing-project/requirements.txt (line 19)) (5.14.1)\n",
            "Requirement already satisfied: widgetsnbextension~=4.0 in /home/codeany/.pyenv/versions/3.8.12/lib/python3.8/site-packages (from ipywidgets==8.0.2->-r /workspaces/data-analytics-housing-project/requirements.txt (line 19)) (4.0.10)\n",
            "Requirement already satisfied: jupyterlab-widgets~=3.0 in /home/codeany/.pyenv/versions/3.8.12/lib/python3.8/site-packages (from ipywidgets==8.0.2->-r /workspaces/data-analytics-housing-project/requirements.txt (line 19)) (3.0.10)\n",
            "Requirement already satisfied: PyWavelets in /home/codeany/.local/lib/python3.8/site-packages (from imagehash==4.3.1->ydata-profiling==4.4.0->-r /workspaces/data-analytics-housing-project/requirements.txt (line 5)) (1.4.1)\n",
            "Requirement already satisfied: networkx>=2.4 in /home/codeany/.local/lib/python3.8/site-packages (from visions==0.7.5->visions[type_image_path]==0.7.5->ydata-profiling==4.4.0->-r /workspaces/data-analytics-housing-project/requirements.txt (line 5)) (3.1)\n",
            "Requirement already satisfied: tangled-up-in-unicode>=0.0.4 in /home/codeany/.local/lib/python3.8/site-packages (from visions==0.7.5->visions[type_image_path]==0.7.5->ydata-profiling==4.4.0->-r /workspaces/data-analytics-housing-project/requirements.txt (line 5)) (0.2.0)\n",
            "\u001b[33mWARNING: visions 0.7.5 does not provide the extra 'type-image-path'\u001b[0m\u001b[33m\n",
            "\u001b[0mRequirement already satisfied: entrypoints in /home/codeany/.local/lib/python3.8/site-packages (from altair<5->-r /workspaces/data-analytics-housing-project/requirements.txt (line 20)) (0.4)\n",
            "Requirement already satisfied: jsonschema>=3.0 in /home/codeany/.pyenv/versions/3.8.12/lib/python3.8/site-packages (from altair<5->-r /workspaces/data-analytics-housing-project/requirements.txt (line 20)) (4.21.1)\n",
            "Requirement already satisfied: toolz in /home/codeany/.local/lib/python3.8/site-packages (from altair<5->-r /workspaces/data-analytics-housing-project/requirements.txt (line 20)) (0.12.1)\n",
            "Requirement already satisfied: comm>=0.1.1 in /home/codeany/.pyenv/versions/3.8.12/lib/python3.8/site-packages (from ipykernel>=4.5.1->ipywidgets==8.0.2->-r /workspaces/data-analytics-housing-project/requirements.txt (line 19)) (0.2.1)\n",
            "Requirement already satisfied: debugpy>=1.6.5 in /home/codeany/.pyenv/versions/3.8.12/lib/python3.8/site-packages (from ipykernel>=4.5.1->ipywidgets==8.0.2->-r /workspaces/data-analytics-housing-project/requirements.txt (line 19)) (1.8.1)\n",
            "Requirement already satisfied: jupyter-client>=6.1.12 in /home/codeany/.pyenv/versions/3.8.12/lib/python3.8/site-packages (from ipykernel>=4.5.1->ipywidgets==8.0.2->-r /workspaces/data-analytics-housing-project/requirements.txt (line 19)) (8.6.0)\n",
            "Requirement already satisfied: jupyter-core!=5.0.*,>=4.12 in /home/codeany/.pyenv/versions/3.8.12/lib/python3.8/site-packages (from ipykernel>=4.5.1->ipywidgets==8.0.2->-r /workspaces/data-analytics-housing-project/requirements.txt (line 19)) (5.7.1)\n",
            "Requirement already satisfied: matplotlib-inline>=0.1 in /home/codeany/.pyenv/versions/3.8.12/lib/python3.8/site-packages (from ipykernel>=4.5.1->ipywidgets==8.0.2->-r /workspaces/data-analytics-housing-project/requirements.txt (line 19)) (0.1.6)\n",
            "Requirement already satisfied: nest-asyncio in /home/codeany/.pyenv/versions/3.8.12/lib/python3.8/site-packages (from ipykernel>=4.5.1->ipywidgets==8.0.2->-r /workspaces/data-analytics-housing-project/requirements.txt (line 19)) (1.6.0)\n",
            "Requirement already satisfied: psutil in /home/codeany/.pyenv/versions/3.8.12/lib/python3.8/site-packages (from ipykernel>=4.5.1->ipywidgets==8.0.2->-r /workspaces/data-analytics-housing-project/requirements.txt (line 19)) (5.9.8)\n",
            "Requirement already satisfied: pyzmq>=24 in /home/codeany/.pyenv/versions/3.8.12/lib/python3.8/site-packages (from ipykernel>=4.5.1->ipywidgets==8.0.2->-r /workspaces/data-analytics-housing-project/requirements.txt (line 19)) (25.1.2)\n",
            "Requirement already satisfied: backcall in /home/codeany/.pyenv/versions/3.8.12/lib/python3.8/site-packages (from ipython>=6.1.0->ipywidgets==8.0.2->-r /workspaces/data-analytics-housing-project/requirements.txt (line 19)) (0.2.0)\n",
            "Requirement already satisfied: decorator in /home/codeany/.pyenv/versions/3.8.12/lib/python3.8/site-packages (from ipython>=6.1.0->ipywidgets==8.0.2->-r /workspaces/data-analytics-housing-project/requirements.txt (line 19)) (5.1.1)\n",
            "Requirement already satisfied: jedi>=0.16 in /home/codeany/.pyenv/versions/3.8.12/lib/python3.8/site-packages (from ipython>=6.1.0->ipywidgets==8.0.2->-r /workspaces/data-analytics-housing-project/requirements.txt (line 19)) (0.19.1)\n",
            "Requirement already satisfied: pickleshare in /home/codeany/.pyenv/versions/3.8.12/lib/python3.8/site-packages (from ipython>=6.1.0->ipywidgets==8.0.2->-r /workspaces/data-analytics-housing-project/requirements.txt (line 19)) (0.7.5)\n",
            "Requirement already satisfied: prompt-toolkit!=3.0.37,<3.1.0,>=3.0.30 in /home/codeany/.pyenv/versions/3.8.12/lib/python3.8/site-packages (from ipython>=6.1.0->ipywidgets==8.0.2->-r /workspaces/data-analytics-housing-project/requirements.txt (line 19)) (3.0.43)\n",
            "Requirement already satisfied: pygments>=2.4.0 in /home/codeany/.pyenv/versions/3.8.12/lib/python3.8/site-packages (from ipython>=6.1.0->ipywidgets==8.0.2->-r /workspaces/data-analytics-housing-project/requirements.txt (line 19)) (2.17.2)\n",
            "Requirement already satisfied: stack-data in /home/codeany/.pyenv/versions/3.8.12/lib/python3.8/site-packages (from ipython>=6.1.0->ipywidgets==8.0.2->-r /workspaces/data-analytics-housing-project/requirements.txt (line 19)) (0.6.3)\n",
            "Requirement already satisfied: typing-extensions in /home/codeany/.pyenv/versions/3.8.12/lib/python3.8/site-packages (from ipython>=6.1.0->ipywidgets==8.0.2->-r /workspaces/data-analytics-housing-project/requirements.txt (line 19)) (4.10.0)\n",
            "Requirement already satisfied: pexpect>4.3 in /home/codeany/.pyenv/versions/3.8.12/lib/python3.8/site-packages (from ipython>=6.1.0->ipywidgets==8.0.2->-r /workspaces/data-analytics-housing-project/requirements.txt (line 19)) (4.9.0)\n",
            "Requirement already satisfied: importlib-resources>=1.4.0 in /home/codeany/.pyenv/versions/3.8.12/lib/python3.8/site-packages (from jsonschema>=3.0->altair<5->-r /workspaces/data-analytics-housing-project/requirements.txt (line 20)) (6.1.3)\n",
            "Requirement already satisfied: jsonschema-specifications>=2023.03.6 in /home/codeany/.pyenv/versions/3.8.12/lib/python3.8/site-packages (from jsonschema>=3.0->altair<5->-r /workspaces/data-analytics-housing-project/requirements.txt (line 20)) (2023.12.1)\n",
            "Requirement already satisfied: pkgutil-resolve-name>=1.3.10 in /home/codeany/.pyenv/versions/3.8.12/lib/python3.8/site-packages (from jsonschema>=3.0->altair<5->-r /workspaces/data-analytics-housing-project/requirements.txt (line 20)) (1.3.10)\n",
            "Requirement already satisfied: referencing>=0.28.4 in /home/codeany/.pyenv/versions/3.8.12/lib/python3.8/site-packages (from jsonschema>=3.0->altair<5->-r /workspaces/data-analytics-housing-project/requirements.txt (line 20)) (0.33.0)\n",
            "Requirement already satisfied: rpds-py>=0.7.1 in /home/codeany/.pyenv/versions/3.8.12/lib/python3.8/site-packages (from jsonschema>=3.0->altair<5->-r /workspaces/data-analytics-housing-project/requirements.txt (line 20)) (0.18.0)\n",
            "Requirement already satisfied: charset-normalizer<4,>=2 in /home/codeany/.pyenv/versions/3.8.12/lib/python3.8/site-packages (from requests<3,>=2.24.0->ydata-profiling==4.4.0->-r /workspaces/data-analytics-housing-project/requirements.txt (line 5)) (3.3.2)\n",
            "Requirement already satisfied: idna<4,>=2.5 in /home/codeany/.pyenv/versions/3.8.12/lib/python3.8/site-packages (from requests<3,>=2.24.0->ydata-profiling==4.4.0->-r /workspaces/data-analytics-housing-project/requirements.txt (line 5)) (3.6)\n",
            "Requirement already satisfied: urllib3<3,>=1.21.1 in /home/codeany/.pyenv/versions/3.8.12/lib/python3.8/site-packages (from requests<3,>=2.24.0->ydata-profiling==4.4.0->-r /workspaces/data-analytics-housing-project/requirements.txt (line 5)) (2.2.1)\n",
            "Requirement already satisfied: patsy>=0.5.4 in /home/codeany/.local/lib/python3.8/site-packages (from statsmodels<1,>=0.13.2->ydata-profiling==4.4.0->-r /workspaces/data-analytics-housing-project/requirements.txt (line 5)) (0.5.6)\n",
            "Requirement already satisfied: gitdb<5,>=4.0.1 in /home/codeany/.local/lib/python3.8/site-packages (from gitpython->streamlit==0.85.0->-r /workspaces/data-analytics-housing-project/requirements.txt (line 9)) (4.0.11)\n",
            "Requirement already satisfied: backports.zoneinfo in /home/codeany/.local/lib/python3.8/site-packages (from tzlocal->streamlit==0.85.0->-r /workspaces/data-analytics-housing-project/requirements.txt (line 9)) (0.2.1)\n",
            "Requirement already satisfied: smmap<6,>=3.0.1 in /home/codeany/.local/lib/python3.8/site-packages (from gitdb<5,>=4.0.1->gitpython->streamlit==0.85.0->-r /workspaces/data-analytics-housing-project/requirements.txt (line 9)) (5.0.1)\n",
            "Requirement already satisfied: zipp>=3.1.0 in /home/codeany/.pyenv/versions/3.8.12/lib/python3.8/site-packages (from importlib-resources>=1.4.0->jsonschema>=3.0->altair<5->-r /workspaces/data-analytics-housing-project/requirements.txt (line 20)) (3.17.0)\n",
            "Requirement already satisfied: parso<0.9.0,>=0.8.3 in /home/codeany/.pyenv/versions/3.8.12/lib/python3.8/site-packages (from jedi>=0.16->ipython>=6.1.0->ipywidgets==8.0.2->-r /workspaces/data-analytics-housing-project/requirements.txt (line 19)) (0.8.3)\n",
            "Requirement already satisfied: importlib-metadata>=4.8.3 in /home/codeany/.pyenv/versions/3.8.12/lib/python3.8/site-packages (from jupyter-client>=6.1.12->ipykernel>=4.5.1->ipywidgets==8.0.2->-r /workspaces/data-analytics-housing-project/requirements.txt (line 19)) (7.0.2)\n",
            "Requirement already satisfied: platformdirs>=2.5 in /home/codeany/.pyenv/versions/3.8.12/lib/python3.8/site-packages (from jupyter-core!=5.0.*,>=4.12->ipykernel>=4.5.1->ipywidgets==8.0.2->-r /workspaces/data-analytics-housing-project/requirements.txt (line 19)) (4.2.0)\n",
            "Requirement already satisfied: ptyprocess>=0.5 in /home/codeany/.pyenv/versions/3.8.12/lib/python3.8/site-packages (from pexpect>4.3->ipython>=6.1.0->ipywidgets==8.0.2->-r /workspaces/data-analytics-housing-project/requirements.txt (line 19)) (0.7.0)\n",
            "Requirement already satisfied: wcwidth in /home/codeany/.pyenv/versions/3.8.12/lib/python3.8/site-packages (from prompt-toolkit!=3.0.37,<3.1.0,>=3.0.30->ipython>=6.1.0->ipywidgets==8.0.2->-r /workspaces/data-analytics-housing-project/requirements.txt (line 19)) (0.2.13)\n",
            "Requirement already satisfied: executing>=1.2.0 in /home/codeany/.pyenv/versions/3.8.12/lib/python3.8/site-packages (from stack-data->ipython>=6.1.0->ipywidgets==8.0.2->-r /workspaces/data-analytics-housing-project/requirements.txt (line 19)) (2.0.1)\n",
            "Requirement already satisfied: asttokens>=2.1.0 in /home/codeany/.pyenv/versions/3.8.12/lib/python3.8/site-packages (from stack-data->ipython>=6.1.0->ipywidgets==8.0.2->-r /workspaces/data-analytics-housing-project/requirements.txt (line 19)) (2.4.1)\n",
            "Requirement already satisfied: pure-eval in /home/codeany/.pyenv/versions/3.8.12/lib/python3.8/site-packages (from stack-data->ipython>=6.1.0->ipywidgets==8.0.2->-r /workspaces/data-analytics-housing-project/requirements.txt (line 19)) (0.2.2)\n",
            "Note: you may need to restart the kernel to use updated packages.\n"
          ]
        }
      ],
      "source": [
        "%pip install -r /workspaces/data-analytics-housing-project/requirements.txt"
      ]
    },
    {
      "cell_type": "markdown",
      "metadata": {
        "id": "aOGIGS-uz3i2"
      },
      "source": [
        "We need to change the working directory from its current folder to its parent folder\n",
        "* We access the current directory with os.getcwd()"
      ]
    },
    {
      "cell_type": "code",
      "execution_count": 2,
      "metadata": {
        "id": "wZfF_j-Bz3i4",
        "outputId": "66943449-1436-4c3d-85c7-b85f9f78349b"
      },
      "outputs": [
        {
          "data": {
            "text/plain": [
              "'/workspaces/data-analytics-housing-project/jupyter_notebooks'"
            ]
          },
          "execution_count": 2,
          "metadata": {},
          "output_type": "execute_result"
        }
      ],
      "source": [
        "import os\n",
        "current_dir = os.getcwd()\n",
        "current_dir"
      ]
    },
    {
      "cell_type": "markdown",
      "metadata": {
        "id": "9MWW8E7lz3i7"
      },
      "source": [
        "We want to make the parent of the current directory the new current directory\n",
        "* os.path.dirname() gets the parent directory\n",
        "* os.chir() defines the new current directory"
      ]
    },
    {
      "cell_type": "code",
      "execution_count": 3,
      "metadata": {
        "id": "TwHsQRWjz3i9",
        "outputId": "86849db3-cd2f-4cc5-ebb8-2d0caafa1a2c"
      },
      "outputs": [
        {
          "name": "stdout",
          "output_type": "stream",
          "text": [
            "You set a new current directory\n"
          ]
        }
      ],
      "source": [
        "os.chdir(os.path.dirname(current_dir))\n",
        "print(\"You set a new current directory\")"
      ]
    },
    {
      "cell_type": "markdown",
      "metadata": {
        "id": "M_xPk_Ijz3i-"
      },
      "source": [
        "Confirm the new current directory"
      ]
    },
    {
      "cell_type": "code",
      "execution_count": 4,
      "metadata": {
        "id": "vz3S-_kjz3jA",
        "outputId": "00b79ae4-75d0-4a96-d193-ac9ef9847ea2"
      },
      "outputs": [
        {
          "data": {
            "text/plain": [
              "'/workspaces/data-analytics-housing-project'"
            ]
          },
          "execution_count": 4,
          "metadata": {},
          "output_type": "execute_result"
        }
      ],
      "source": [
        "current_dir = os.getcwd()\n",
        "current_dir"
      ]
    },
    {
      "cell_type": "markdown",
      "metadata": {
        "id": "-mavJ8DibrcQ"
      },
      "source": [
        "## Fetch Kaggle Data"
      ]
    },
    {
      "cell_type": "markdown",
      "metadata": {},
      "source": [
        "Install Kaggle package to fetch data."
      ]
    },
    {
      "cell_type": "code",
      "execution_count": 5,
      "metadata": {},
      "outputs": [
        {
          "name": "stdout",
          "output_type": "stream",
          "text": [
            "Requirement already satisfied: kaggle==1.5.12 in /home/codeany/.local/lib/python3.8/site-packages (1.5.12)\n",
            "Requirement already satisfied: six>=1.10 in /home/codeany/.pyenv/versions/3.8.12/lib/python3.8/site-packages (from kaggle==1.5.12) (1.16.0)\n",
            "Requirement already satisfied: certifi in /home/codeany/.pyenv/versions/3.8.12/lib/python3.8/site-packages (from kaggle==1.5.12) (2024.2.2)\n",
            "Requirement already satisfied: python-dateutil in /home/codeany/.pyenv/versions/3.8.12/lib/python3.8/site-packages (from kaggle==1.5.12) (2.9.0.post0)\n",
            "Requirement already satisfied: requests in /home/codeany/.pyenv/versions/3.8.12/lib/python3.8/site-packages (from kaggle==1.5.12) (2.31.0)\n",
            "Requirement already satisfied: tqdm in /home/codeany/.local/lib/python3.8/site-packages (from kaggle==1.5.12) (4.66.2)\n",
            "Requirement already satisfied: python-slugify in /home/codeany/.local/lib/python3.8/site-packages (from kaggle==1.5.12) (8.0.4)\n",
            "Requirement already satisfied: urllib3 in /home/codeany/.pyenv/versions/3.8.12/lib/python3.8/site-packages (from kaggle==1.5.12) (2.2.1)\n",
            "Requirement already satisfied: text-unidecode>=1.3 in /home/codeany/.local/lib/python3.8/site-packages (from python-slugify->kaggle==1.5.12) (1.3)\n",
            "Requirement already satisfied: charset-normalizer<4,>=2 in /home/codeany/.pyenv/versions/3.8.12/lib/python3.8/site-packages (from requests->kaggle==1.5.12) (3.3.2)\n",
            "Requirement already satisfied: idna<4,>=2.5 in /home/codeany/.pyenv/versions/3.8.12/lib/python3.8/site-packages (from requests->kaggle==1.5.12) (3.6)\n",
            "Note: you may need to restart the kernel to use updated packages.\n"
          ]
        }
      ],
      "source": [
        "%pip install kaggle==1.5.12"
      ]
    },
    {
      "cell_type": "markdown",
      "metadata": {},
      "source": [
        "* A personal authentication token (JSON file) is needed to authenticate Kaggle in order to download the data.\n",
        "\n",
        "* Once you have your token, drag and drop the file into the directory and then run the following:"
      ]
    },
    {
      "cell_type": "code",
      "execution_count": 6,
      "metadata": {},
      "outputs": [
        {
          "name": "stdout",
          "output_type": "stream",
          "text": [
            "chmod: cannot access 'kaggle.json': No such file or directory\n"
          ]
        }
      ],
      "source": [
        "import os\n",
        "os.environ['KAGGLE_CONFIG_DIR'] = os.getcwd()\n",
        "! chmod 600 kaggle.json"
      ]
    },
    {
      "cell_type": "markdown",
      "metadata": {},
      "source": [
        "* Next, we need the datset url: 'datasets/codeinstitute/housing-prices-data'\n",
        "\n",
        "* Define the Kaggle dataset and destination folder. Then download your dataset."
      ]
    },
    {
      "cell_type": "code",
      "execution_count": 7,
      "metadata": {},
      "outputs": [
        {
          "name": "stdout",
          "output_type": "stream",
          "text": [
            "Traceback (most recent call last):\n",
            "  File \"/home/codeany/.local/bin/kaggle\", line 5, in <module>\n",
            "    from kaggle.cli import main\n",
            "  File \"/home/codeany/.local/lib/python3.8/site-packages/kaggle/__init__.py\", line 23, in <module>\n",
            "    api.authenticate()\n",
            "  File \"/home/codeany/.local/lib/python3.8/site-packages/kaggle/api/kaggle_api_extended.py\", line 164, in authenticate\n",
            "    raise IOError('Could not find {}. Make sure it\\'s located in'\n",
            "OSError: Could not find kaggle.json. Make sure it's located in /workspaces/data-analytics-housing-project. Or use the environment method.\n"
          ]
        }
      ],
      "source": [
        "KaggleDatasetPath = \"codeinstitute/housing-prices-data\"\n",
        "DestinationFolder = \"inputs/datasets/raw\"   \n",
        "! kaggle datasets download -d {KaggleDatasetPath} -p {DestinationFolder}"
      ]
    },
    {
      "cell_type": "markdown",
      "metadata": {},
      "source": [
        "* Unzip the downloaded file, delete the zip file and delete the kaggle.json file."
      ]
    },
    {
      "cell_type": "code",
      "execution_count": 8,
      "metadata": {},
      "outputs": [
        {
          "name": "stdout",
          "output_type": "stream",
          "text": [
            "unzip:  cannot find or open inputs/datasets/raw/*.zip, inputs/datasets/raw/*.zip.zip or inputs/datasets/raw/*.zip.ZIP.\n",
            "\n",
            "No zipfiles found.\n"
          ]
        }
      ],
      "source": [
        "! unzip {DestinationFolder}/*.zip -d {DestinationFolder} \\\n",
        "  && rm {DestinationFolder}/*.zip \\\n",
        "  && rm kaggle.json"
      ]
    },
    {
      "cell_type": "markdown",
      "metadata": {},
      "source": [
        "---"
      ]
    },
    {
      "cell_type": "markdown",
      "metadata": {
        "id": "uFQo3ycuO-v6"
      },
      "source": [
        "## Load and Inspect Kaggle Data"
      ]
    },
    {
      "cell_type": "markdown",
      "metadata": {},
      "source": [
        "* First, we will inspect the dataset of the houses in Ames, Iowa from Kaggle (not including our client's four inherited houses)"
      ]
    },
    {
      "cell_type": "code",
      "execution_count": 9,
      "metadata": {},
      "outputs": [
        {
          "data": {
            "text/html": [
              "<div>\n",
              "<style scoped>\n",
              "    .dataframe tbody tr th:only-of-type {\n",
              "        vertical-align: middle;\n",
              "    }\n",
              "\n",
              "    .dataframe tbody tr th {\n",
              "        vertical-align: top;\n",
              "    }\n",
              "\n",
              "    .dataframe thead th {\n",
              "        text-align: right;\n",
              "    }\n",
              "</style>\n",
              "<table border=\"1\" class=\"dataframe\">\n",
              "  <thead>\n",
              "    <tr style=\"text-align: right;\">\n",
              "      <th></th>\n",
              "      <th>1stFlrSF</th>\n",
              "      <th>2ndFlrSF</th>\n",
              "      <th>BedroomAbvGr</th>\n",
              "      <th>BsmtExposure</th>\n",
              "      <th>BsmtFinSF1</th>\n",
              "      <th>BsmtFinType1</th>\n",
              "      <th>BsmtUnfSF</th>\n",
              "      <th>EnclosedPorch</th>\n",
              "      <th>GarageArea</th>\n",
              "      <th>GarageFinish</th>\n",
              "      <th>...</th>\n",
              "      <th>LotFrontage</th>\n",
              "      <th>MasVnrArea</th>\n",
              "      <th>OpenPorchSF</th>\n",
              "      <th>OverallCond</th>\n",
              "      <th>OverallQual</th>\n",
              "      <th>TotalBsmtSF</th>\n",
              "      <th>WoodDeckSF</th>\n",
              "      <th>YearBuilt</th>\n",
              "      <th>YearRemodAdd</th>\n",
              "      <th>SalePrice</th>\n",
              "    </tr>\n",
              "  </thead>\n",
              "  <tbody>\n",
              "    <tr>\n",
              "      <th>0</th>\n",
              "      <td>856</td>\n",
              "      <td>854.0</td>\n",
              "      <td>3.0</td>\n",
              "      <td>No</td>\n",
              "      <td>706</td>\n",
              "      <td>GLQ</td>\n",
              "      <td>150</td>\n",
              "      <td>0.0</td>\n",
              "      <td>548</td>\n",
              "      <td>RFn</td>\n",
              "      <td>...</td>\n",
              "      <td>65.0</td>\n",
              "      <td>196.0</td>\n",
              "      <td>61</td>\n",
              "      <td>5</td>\n",
              "      <td>7</td>\n",
              "      <td>856</td>\n",
              "      <td>0.0</td>\n",
              "      <td>2003</td>\n",
              "      <td>2003</td>\n",
              "      <td>208500</td>\n",
              "    </tr>\n",
              "    <tr>\n",
              "      <th>1</th>\n",
              "      <td>1262</td>\n",
              "      <td>0.0</td>\n",
              "      <td>3.0</td>\n",
              "      <td>Gd</td>\n",
              "      <td>978</td>\n",
              "      <td>ALQ</td>\n",
              "      <td>284</td>\n",
              "      <td>NaN</td>\n",
              "      <td>460</td>\n",
              "      <td>RFn</td>\n",
              "      <td>...</td>\n",
              "      <td>80.0</td>\n",
              "      <td>0.0</td>\n",
              "      <td>0</td>\n",
              "      <td>8</td>\n",
              "      <td>6</td>\n",
              "      <td>1262</td>\n",
              "      <td>NaN</td>\n",
              "      <td>1976</td>\n",
              "      <td>1976</td>\n",
              "      <td>181500</td>\n",
              "    </tr>\n",
              "    <tr>\n",
              "      <th>2</th>\n",
              "      <td>920</td>\n",
              "      <td>866.0</td>\n",
              "      <td>3.0</td>\n",
              "      <td>Mn</td>\n",
              "      <td>486</td>\n",
              "      <td>GLQ</td>\n",
              "      <td>434</td>\n",
              "      <td>0.0</td>\n",
              "      <td>608</td>\n",
              "      <td>RFn</td>\n",
              "      <td>...</td>\n",
              "      <td>68.0</td>\n",
              "      <td>162.0</td>\n",
              "      <td>42</td>\n",
              "      <td>5</td>\n",
              "      <td>7</td>\n",
              "      <td>920</td>\n",
              "      <td>NaN</td>\n",
              "      <td>2001</td>\n",
              "      <td>2002</td>\n",
              "      <td>223500</td>\n",
              "    </tr>\n",
              "    <tr>\n",
              "      <th>3</th>\n",
              "      <td>961</td>\n",
              "      <td>NaN</td>\n",
              "      <td>NaN</td>\n",
              "      <td>No</td>\n",
              "      <td>216</td>\n",
              "      <td>ALQ</td>\n",
              "      <td>540</td>\n",
              "      <td>NaN</td>\n",
              "      <td>642</td>\n",
              "      <td>Unf</td>\n",
              "      <td>...</td>\n",
              "      <td>60.0</td>\n",
              "      <td>0.0</td>\n",
              "      <td>35</td>\n",
              "      <td>5</td>\n",
              "      <td>7</td>\n",
              "      <td>756</td>\n",
              "      <td>NaN</td>\n",
              "      <td>1915</td>\n",
              "      <td>1970</td>\n",
              "      <td>140000</td>\n",
              "    </tr>\n",
              "    <tr>\n",
              "      <th>4</th>\n",
              "      <td>1145</td>\n",
              "      <td>NaN</td>\n",
              "      <td>4.0</td>\n",
              "      <td>Av</td>\n",
              "      <td>655</td>\n",
              "      <td>GLQ</td>\n",
              "      <td>490</td>\n",
              "      <td>0.0</td>\n",
              "      <td>836</td>\n",
              "      <td>RFn</td>\n",
              "      <td>...</td>\n",
              "      <td>84.0</td>\n",
              "      <td>350.0</td>\n",
              "      <td>84</td>\n",
              "      <td>5</td>\n",
              "      <td>8</td>\n",
              "      <td>1145</td>\n",
              "      <td>NaN</td>\n",
              "      <td>2000</td>\n",
              "      <td>2000</td>\n",
              "      <td>250000</td>\n",
              "    </tr>\n",
              "    <tr>\n",
              "      <th>5</th>\n",
              "      <td>796</td>\n",
              "      <td>566.0</td>\n",
              "      <td>1.0</td>\n",
              "      <td>No</td>\n",
              "      <td>732</td>\n",
              "      <td>GLQ</td>\n",
              "      <td>64</td>\n",
              "      <td>NaN</td>\n",
              "      <td>480</td>\n",
              "      <td>Unf</td>\n",
              "      <td>...</td>\n",
              "      <td>85.0</td>\n",
              "      <td>0.0</td>\n",
              "      <td>30</td>\n",
              "      <td>5</td>\n",
              "      <td>5</td>\n",
              "      <td>796</td>\n",
              "      <td>NaN</td>\n",
              "      <td>1993</td>\n",
              "      <td>1995</td>\n",
              "      <td>143000</td>\n",
              "    </tr>\n",
              "    <tr>\n",
              "      <th>6</th>\n",
              "      <td>1694</td>\n",
              "      <td>0.0</td>\n",
              "      <td>3.0</td>\n",
              "      <td>Av</td>\n",
              "      <td>1369</td>\n",
              "      <td>GLQ</td>\n",
              "      <td>317</td>\n",
              "      <td>NaN</td>\n",
              "      <td>636</td>\n",
              "      <td>RFn</td>\n",
              "      <td>...</td>\n",
              "      <td>75.0</td>\n",
              "      <td>186.0</td>\n",
              "      <td>57</td>\n",
              "      <td>5</td>\n",
              "      <td>8</td>\n",
              "      <td>1686</td>\n",
              "      <td>NaN</td>\n",
              "      <td>2004</td>\n",
              "      <td>2005</td>\n",
              "      <td>307000</td>\n",
              "    </tr>\n",
              "    <tr>\n",
              "      <th>7</th>\n",
              "      <td>1107</td>\n",
              "      <td>983.0</td>\n",
              "      <td>3.0</td>\n",
              "      <td>Mn</td>\n",
              "      <td>859</td>\n",
              "      <td>ALQ</td>\n",
              "      <td>216</td>\n",
              "      <td>NaN</td>\n",
              "      <td>484</td>\n",
              "      <td>NaN</td>\n",
              "      <td>...</td>\n",
              "      <td>NaN</td>\n",
              "      <td>240.0</td>\n",
              "      <td>204</td>\n",
              "      <td>6</td>\n",
              "      <td>7</td>\n",
              "      <td>1107</td>\n",
              "      <td>NaN</td>\n",
              "      <td>1973</td>\n",
              "      <td>1973</td>\n",
              "      <td>200000</td>\n",
              "    </tr>\n",
              "    <tr>\n",
              "      <th>8</th>\n",
              "      <td>1022</td>\n",
              "      <td>752.0</td>\n",
              "      <td>2.0</td>\n",
              "      <td>No</td>\n",
              "      <td>0</td>\n",
              "      <td>Unf</td>\n",
              "      <td>952</td>\n",
              "      <td>NaN</td>\n",
              "      <td>468</td>\n",
              "      <td>Unf</td>\n",
              "      <td>...</td>\n",
              "      <td>51.0</td>\n",
              "      <td>0.0</td>\n",
              "      <td>0</td>\n",
              "      <td>5</td>\n",
              "      <td>7</td>\n",
              "      <td>952</td>\n",
              "      <td>NaN</td>\n",
              "      <td>1931</td>\n",
              "      <td>1950</td>\n",
              "      <td>129900</td>\n",
              "    </tr>\n",
              "    <tr>\n",
              "      <th>9</th>\n",
              "      <td>1077</td>\n",
              "      <td>0.0</td>\n",
              "      <td>2.0</td>\n",
              "      <td>No</td>\n",
              "      <td>851</td>\n",
              "      <td>GLQ</td>\n",
              "      <td>140</td>\n",
              "      <td>NaN</td>\n",
              "      <td>205</td>\n",
              "      <td>RFn</td>\n",
              "      <td>...</td>\n",
              "      <td>50.0</td>\n",
              "      <td>0.0</td>\n",
              "      <td>4</td>\n",
              "      <td>6</td>\n",
              "      <td>5</td>\n",
              "      <td>991</td>\n",
              "      <td>NaN</td>\n",
              "      <td>1939</td>\n",
              "      <td>1950</td>\n",
              "      <td>118000</td>\n",
              "    </tr>\n",
              "    <tr>\n",
              "      <th>10</th>\n",
              "      <td>1040</td>\n",
              "      <td>0.0</td>\n",
              "      <td>3.0</td>\n",
              "      <td>No</td>\n",
              "      <td>906</td>\n",
              "      <td>Rec</td>\n",
              "      <td>134</td>\n",
              "      <td>NaN</td>\n",
              "      <td>384</td>\n",
              "      <td>Unf</td>\n",
              "      <td>...</td>\n",
              "      <td>70.0</td>\n",
              "      <td>0.0</td>\n",
              "      <td>0</td>\n",
              "      <td>5</td>\n",
              "      <td>5</td>\n",
              "      <td>1040</td>\n",
              "      <td>NaN</td>\n",
              "      <td>1965</td>\n",
              "      <td>1965</td>\n",
              "      <td>129500</td>\n",
              "    </tr>\n",
              "    <tr>\n",
              "      <th>11</th>\n",
              "      <td>1182</td>\n",
              "      <td>1142.0</td>\n",
              "      <td>4.0</td>\n",
              "      <td>No</td>\n",
              "      <td>998</td>\n",
              "      <td>NaN</td>\n",
              "      <td>177</td>\n",
              "      <td>NaN</td>\n",
              "      <td>736</td>\n",
              "      <td>Fin</td>\n",
              "      <td>...</td>\n",
              "      <td>85.0</td>\n",
              "      <td>286.0</td>\n",
              "      <td>21</td>\n",
              "      <td>5</td>\n",
              "      <td>9</td>\n",
              "      <td>1175</td>\n",
              "      <td>NaN</td>\n",
              "      <td>2005</td>\n",
              "      <td>2006</td>\n",
              "      <td>345000</td>\n",
              "    </tr>\n",
              "    <tr>\n",
              "      <th>12</th>\n",
              "      <td>912</td>\n",
              "      <td>0.0</td>\n",
              "      <td>2.0</td>\n",
              "      <td>No</td>\n",
              "      <td>737</td>\n",
              "      <td>ALQ</td>\n",
              "      <td>175</td>\n",
              "      <td>NaN</td>\n",
              "      <td>352</td>\n",
              "      <td>NaN</td>\n",
              "      <td>...</td>\n",
              "      <td>NaN</td>\n",
              "      <td>0.0</td>\n",
              "      <td>0</td>\n",
              "      <td>6</td>\n",
              "      <td>5</td>\n",
              "      <td>912</td>\n",
              "      <td>NaN</td>\n",
              "      <td>1962</td>\n",
              "      <td>1962</td>\n",
              "      <td>144000</td>\n",
              "    </tr>\n",
              "    <tr>\n",
              "      <th>13</th>\n",
              "      <td>1494</td>\n",
              "      <td>0.0</td>\n",
              "      <td>3.0</td>\n",
              "      <td>Av</td>\n",
              "      <td>0</td>\n",
              "      <td>Unf</td>\n",
              "      <td>1494</td>\n",
              "      <td>NaN</td>\n",
              "      <td>840</td>\n",
              "      <td>RFn</td>\n",
              "      <td>...</td>\n",
              "      <td>91.0</td>\n",
              "      <td>306.0</td>\n",
              "      <td>33</td>\n",
              "      <td>5</td>\n",
              "      <td>7</td>\n",
              "      <td>1494</td>\n",
              "      <td>160.0</td>\n",
              "      <td>2006</td>\n",
              "      <td>2007</td>\n",
              "      <td>279500</td>\n",
              "    </tr>\n",
              "    <tr>\n",
              "      <th>14</th>\n",
              "      <td>1253</td>\n",
              "      <td>0.0</td>\n",
              "      <td>NaN</td>\n",
              "      <td>No</td>\n",
              "      <td>733</td>\n",
              "      <td>BLQ</td>\n",
              "      <td>520</td>\n",
              "      <td>NaN</td>\n",
              "      <td>352</td>\n",
              "      <td>RFn</td>\n",
              "      <td>...</td>\n",
              "      <td>NaN</td>\n",
              "      <td>212.0</td>\n",
              "      <td>213</td>\n",
              "      <td>5</td>\n",
              "      <td>6</td>\n",
              "      <td>1253</td>\n",
              "      <td>NaN</td>\n",
              "      <td>1960</td>\n",
              "      <td>1960</td>\n",
              "      <td>157000</td>\n",
              "    </tr>\n",
              "    <tr>\n",
              "      <th>15</th>\n",
              "      <td>854</td>\n",
              "      <td>0.0</td>\n",
              "      <td>2.0</td>\n",
              "      <td>No</td>\n",
              "      <td>0</td>\n",
              "      <td>Unf</td>\n",
              "      <td>832</td>\n",
              "      <td>NaN</td>\n",
              "      <td>576</td>\n",
              "      <td>Unf</td>\n",
              "      <td>...</td>\n",
              "      <td>51.0</td>\n",
              "      <td>0.0</td>\n",
              "      <td>112</td>\n",
              "      <td>8</td>\n",
              "      <td>7</td>\n",
              "      <td>832</td>\n",
              "      <td>NaN</td>\n",
              "      <td>1929</td>\n",
              "      <td>2001</td>\n",
              "      <td>132000</td>\n",
              "    </tr>\n",
              "    <tr>\n",
              "      <th>16</th>\n",
              "      <td>1004</td>\n",
              "      <td>0.0</td>\n",
              "      <td>2.0</td>\n",
              "      <td>No</td>\n",
              "      <td>578</td>\n",
              "      <td>ALQ</td>\n",
              "      <td>426</td>\n",
              "      <td>NaN</td>\n",
              "      <td>480</td>\n",
              "      <td>Fin</td>\n",
              "      <td>...</td>\n",
              "      <td>NaN</td>\n",
              "      <td>180.0</td>\n",
              "      <td>0</td>\n",
              "      <td>7</td>\n",
              "      <td>6</td>\n",
              "      <td>1004</td>\n",
              "      <td>NaN</td>\n",
              "      <td>1970</td>\n",
              "      <td>1970</td>\n",
              "      <td>149000</td>\n",
              "    </tr>\n",
              "    <tr>\n",
              "      <th>17</th>\n",
              "      <td>1296</td>\n",
              "      <td>0.0</td>\n",
              "      <td>2.0</td>\n",
              "      <td>None</td>\n",
              "      <td>0</td>\n",
              "      <td>None</td>\n",
              "      <td>0</td>\n",
              "      <td>NaN</td>\n",
              "      <td>516</td>\n",
              "      <td>Unf</td>\n",
              "      <td>...</td>\n",
              "      <td>72.0</td>\n",
              "      <td>0.0</td>\n",
              "      <td>0</td>\n",
              "      <td>5</td>\n",
              "      <td>4</td>\n",
              "      <td>0</td>\n",
              "      <td>NaN</td>\n",
              "      <td>1967</td>\n",
              "      <td>1967</td>\n",
              "      <td>90000</td>\n",
              "    </tr>\n",
              "    <tr>\n",
              "      <th>18</th>\n",
              "      <td>1114</td>\n",
              "      <td>NaN</td>\n",
              "      <td>NaN</td>\n",
              "      <td>No</td>\n",
              "      <td>646</td>\n",
              "      <td>GLQ</td>\n",
              "      <td>468</td>\n",
              "      <td>NaN</td>\n",
              "      <td>576</td>\n",
              "      <td>Unf</td>\n",
              "      <td>...</td>\n",
              "      <td>66.0</td>\n",
              "      <td>0.0</td>\n",
              "      <td>102</td>\n",
              "      <td>5</td>\n",
              "      <td>5</td>\n",
              "      <td>1114</td>\n",
              "      <td>NaN</td>\n",
              "      <td>2004</td>\n",
              "      <td>2004</td>\n",
              "      <td>159000</td>\n",
              "    </tr>\n",
              "    <tr>\n",
              "      <th>19</th>\n",
              "      <td>1339</td>\n",
              "      <td>0.0</td>\n",
              "      <td>3.0</td>\n",
              "      <td>No</td>\n",
              "      <td>504</td>\n",
              "      <td>LwQ</td>\n",
              "      <td>525</td>\n",
              "      <td>NaN</td>\n",
              "      <td>294</td>\n",
              "      <td>Unf</td>\n",
              "      <td>...</td>\n",
              "      <td>70.0</td>\n",
              "      <td>0.0</td>\n",
              "      <td>0</td>\n",
              "      <td>6</td>\n",
              "      <td>5</td>\n",
              "      <td>1029</td>\n",
              "      <td>NaN</td>\n",
              "      <td>1958</td>\n",
              "      <td>1965</td>\n",
              "      <td>139000</td>\n",
              "    </tr>\n",
              "  </tbody>\n",
              "</table>\n",
              "<p>20 rows × 24 columns</p>\n",
              "</div>"
            ],
            "text/plain": [
              "    1stFlrSF  2ndFlrSF  BedroomAbvGr BsmtExposure  BsmtFinSF1 BsmtFinType1  \\\n",
              "0        856     854.0           3.0           No         706          GLQ   \n",
              "1       1262       0.0           3.0           Gd         978          ALQ   \n",
              "2        920     866.0           3.0           Mn         486          GLQ   \n",
              "3        961       NaN           NaN           No         216          ALQ   \n",
              "4       1145       NaN           4.0           Av         655          GLQ   \n",
              "5        796     566.0           1.0           No         732          GLQ   \n",
              "6       1694       0.0           3.0           Av        1369          GLQ   \n",
              "7       1107     983.0           3.0           Mn         859          ALQ   \n",
              "8       1022     752.0           2.0           No           0          Unf   \n",
              "9       1077       0.0           2.0           No         851          GLQ   \n",
              "10      1040       0.0           3.0           No         906          Rec   \n",
              "11      1182    1142.0           4.0           No         998          NaN   \n",
              "12       912       0.0           2.0           No         737          ALQ   \n",
              "13      1494       0.0           3.0           Av           0          Unf   \n",
              "14      1253       0.0           NaN           No         733          BLQ   \n",
              "15       854       0.0           2.0           No           0          Unf   \n",
              "16      1004       0.0           2.0           No         578          ALQ   \n",
              "17      1296       0.0           2.0         None           0         None   \n",
              "18      1114       NaN           NaN           No         646          GLQ   \n",
              "19      1339       0.0           3.0           No         504          LwQ   \n",
              "\n",
              "    BsmtUnfSF  EnclosedPorch  GarageArea GarageFinish  ...  LotFrontage  \\\n",
              "0         150            0.0         548          RFn  ...         65.0   \n",
              "1         284            NaN         460          RFn  ...         80.0   \n",
              "2         434            0.0         608          RFn  ...         68.0   \n",
              "3         540            NaN         642          Unf  ...         60.0   \n",
              "4         490            0.0         836          RFn  ...         84.0   \n",
              "5          64            NaN         480          Unf  ...         85.0   \n",
              "6         317            NaN         636          RFn  ...         75.0   \n",
              "7         216            NaN         484          NaN  ...          NaN   \n",
              "8         952            NaN         468          Unf  ...         51.0   \n",
              "9         140            NaN         205          RFn  ...         50.0   \n",
              "10        134            NaN         384          Unf  ...         70.0   \n",
              "11        177            NaN         736          Fin  ...         85.0   \n",
              "12        175            NaN         352          NaN  ...          NaN   \n",
              "13       1494            NaN         840          RFn  ...         91.0   \n",
              "14        520            NaN         352          RFn  ...          NaN   \n",
              "15        832            NaN         576          Unf  ...         51.0   \n",
              "16        426            NaN         480          Fin  ...          NaN   \n",
              "17          0            NaN         516          Unf  ...         72.0   \n",
              "18        468            NaN         576          Unf  ...         66.0   \n",
              "19        525            NaN         294          Unf  ...         70.0   \n",
              "\n",
              "    MasVnrArea OpenPorchSF  OverallCond  OverallQual  TotalBsmtSF  WoodDeckSF  \\\n",
              "0        196.0          61            5            7          856         0.0   \n",
              "1          0.0           0            8            6         1262         NaN   \n",
              "2        162.0          42            5            7          920         NaN   \n",
              "3          0.0          35            5            7          756         NaN   \n",
              "4        350.0          84            5            8         1145         NaN   \n",
              "5          0.0          30            5            5          796         NaN   \n",
              "6        186.0          57            5            8         1686         NaN   \n",
              "7        240.0         204            6            7         1107         NaN   \n",
              "8          0.0           0            5            7          952         NaN   \n",
              "9          0.0           4            6            5          991         NaN   \n",
              "10         0.0           0            5            5         1040         NaN   \n",
              "11       286.0          21            5            9         1175         NaN   \n",
              "12         0.0           0            6            5          912         NaN   \n",
              "13       306.0          33            5            7         1494       160.0   \n",
              "14       212.0         213            5            6         1253         NaN   \n",
              "15         0.0         112            8            7          832         NaN   \n",
              "16       180.0           0            7            6         1004         NaN   \n",
              "17         0.0           0            5            4            0         NaN   \n",
              "18         0.0         102            5            5         1114         NaN   \n",
              "19         0.0           0            6            5         1029         NaN   \n",
              "\n",
              "    YearBuilt  YearRemodAdd  SalePrice  \n",
              "0        2003          2003     208500  \n",
              "1        1976          1976     181500  \n",
              "2        2001          2002     223500  \n",
              "3        1915          1970     140000  \n",
              "4        2000          2000     250000  \n",
              "5        1993          1995     143000  \n",
              "6        2004          2005     307000  \n",
              "7        1973          1973     200000  \n",
              "8        1931          1950     129900  \n",
              "9        1939          1950     118000  \n",
              "10       1965          1965     129500  \n",
              "11       2005          2006     345000  \n",
              "12       1962          1962     144000  \n",
              "13       2006          2007     279500  \n",
              "14       1960          1960     157000  \n",
              "15       1929          2001     132000  \n",
              "16       1970          1970     149000  \n",
              "17       1967          1967      90000  \n",
              "18       2004          2004     159000  \n",
              "19       1958          1965     139000  \n",
              "\n",
              "[20 rows x 24 columns]"
            ]
          },
          "execution_count": 9,
          "metadata": {},
          "output_type": "execute_result"
        }
      ],
      "source": [
        "import pandas as pd\n",
        "df = pd.read_csv(f\"inputs/datasets/raw/house_prices_records.csv\")\n",
        "df.head(20)"
      ]
    },
    {
      "cell_type": "markdown",
      "metadata": {},
      "source": [
        "* Data Frame Summary"
      ]
    },
    {
      "cell_type": "code",
      "execution_count": null,
      "metadata": {},
      "outputs": [],
      "source": [
        "df.info()\n"
      ]
    },
    {
      "cell_type": "markdown",
      "metadata": {},
      "source": [
        "* This is an index of what the different variables mean:\n",
        "\n",
        "    <img src=\"../static/images/abbreviations1.png\" alt=\"abbreviations for housing data\" height=\"500\" />\n",
        "\n",
        "    <img src=\"../static/images/abbreviations2.png\" alt=\"abbreviations for housing data\" height=\"460\" />"
      ]
    },
    {
      "cell_type": "markdown",
      "metadata": {},
      "source": [
        "We want to check if there are any duplicates in this dataset."
      ]
    },
    {
      "cell_type": "code",
      "execution_count": null,
      "metadata": {},
      "outputs": [],
      "source": [
        "has_duplicates = df.duplicated().any()\n",
        "\n",
        "if has_duplicates:\n",
        "    print(\"There are duplicates in the Data Frame.\")\n",
        "else:\n",
        "    print(\"There are no duplicates in the Data Frame.\")\n"
      ]
    },
    {
      "cell_type": "markdown",
      "metadata": {},
      "source": [
        "* The variable '2ndFlrSF' contains both 0 and NaN results. Many of the data points that have NaN values for this variable have actual figures for 1stFlrSF which suggests that NaN reflects that the property has no second storey. \n",
        "\n",
        "* To make this data point more accessible for comparison, NaN for this variable will be converted to 0 as it is a Float64 type. If '2ndFlrSF = 0' it is assumed from this point forward that the property does not have a second storey (but may have a basement)."
      ]
    },
    {
      "cell_type": "code",
      "execution_count": null,
      "metadata": {},
      "outputs": [],
      "source": [
        "import numpy as np\n",
        "df['2ndFlrSF'] = df['2ndFlrSF'].replace(np.nan, 0)"
      ]
    },
    {
      "cell_type": "markdown",
      "metadata": {},
      "source": [
        "* We inspect the Data Frame again, and this change has been applied."
      ]
    },
    {
      "cell_type": "code",
      "execution_count": null,
      "metadata": {},
      "outputs": [],
      "source": [
        "df.head(20)"
      ]
    },
    {
      "cell_type": "markdown",
      "metadata": {},
      "source": [
        "* Secondly, we inspect the dataset for our client's inherited houses."
      ]
    },
    {
      "cell_type": "code",
      "execution_count": null,
      "metadata": {},
      "outputs": [],
      "source": [
        "import pandas as pd\n",
        "df_inherited = pd.read_csv(f\"inputs/datasets/raw/inherited_houses.csv\")\n",
        "df_inherited.head()"
      ]
    },
    {
      "cell_type": "markdown",
      "metadata": {},
      "source": [
        "* We inspect 'df_inherited' and note that it's columns and types are the same as 'df' except it does not contain a Sales Price column."
      ]
    },
    {
      "cell_type": "code",
      "execution_count": null,
      "metadata": {},
      "outputs": [],
      "source": [
        "df_inherited.info()"
      ]
    },
    {
      "cell_type": "markdown",
      "metadata": {},
      "source": [
        "---"
      ]
    },
    {
      "cell_type": "markdown",
      "metadata": {
        "id": "ltNetd085qHf"
      },
      "source": [
        "# Push files to Repo"
      ]
    },
    {
      "cell_type": "markdown",
      "metadata": {},
      "source": [
        "* We will save both Data Frames and remove their indexes."
      ]
    },
    {
      "cell_type": "code",
      "execution_count": null,
      "metadata": {
        "id": "aKlnIozA4eQO",
        "outputId": "fd09bc1f-adb1-4511-f6ce-492a6af570c0"
      },
      "outputs": [],
      "source": [
        "import os\n",
        "try:\n",
        "  os.makedirs(name='outputs/datasets/collection') # create outputs/datasets/collection folder\n",
        "except Exception as e:\n",
        "  print(e)\n",
        "\n",
        "df.to_csv(f\"outputs/datasets/collection/house_prices.csv\", index=False) \n",
        "df_inherited.to_csv(f\"outputs/datasets/collection/inherited_houses.csv\", index=False)\n"
      ]
    }
  ],
  "metadata": {
    "accelerator": "GPU",
    "colab": {
      "name": "Data Practitioner Jupyter Notebook.ipynb",
      "provenance": [],
      "toc_visible": true
    },
    "interpreter": {
      "hash": "8b8334dab9339717f727a1deaf837b322d7a41c20d15cc86be99a8e69ceec8ce"
    },
    "kernelspec": {
      "display_name": "Python 3.8.12 64-bit ('3.8.12': pyenv)",
      "name": "python3"
    },
    "language_info": {
      "codemirror_mode": {
        "name": "ipython",
        "version": 3
      },
      "file_extension": ".py",
      "mimetype": "text/x-python",
      "name": "python",
      "nbconvert_exporter": "python",
      "pygments_lexer": "ipython3",
      "version": "3.8.12"
    },
    "orig_nbformat": 2
  },
  "nbformat": 4,
  "nbformat_minor": 2
}
